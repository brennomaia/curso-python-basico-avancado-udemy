{
  "nbformat": 4,
  "nbformat_minor": 0,
  "metadata": {
    "anaconda-cloud": {},
    "colab": {
      "name": "Copy of Index.ipynb",
      "provenance": [],
      "include_colab_link": true
    },
    "kernelspec": {
      "display_name": "Python 3",
      "language": "python",
      "name": "python3"
    },
    "language_info": {
      "codemirror_mode": {
        "name": "ipython",
        "version": 3
      },
      "file_extension": ".py",
      "mimetype": "text/x-python",
      "name": "python",
      "nbconvert_exporter": "python",
      "pygments_lexer": "ipython3",
      "version": "3.5.1"
    }
  },
  "cells": [
    {
      "cell_type": "markdown",
      "metadata": {
        "id": "view-in-github",
        "colab_type": "text"
      },
      "source": [
        "<a href=\"https://colab.research.google.com/github/brennomaia/curso-python-basico-avancado-udemy/blob/main/Copy_of_Index.ipynb\" target=\"_parent\"><img src=\"https://colab.research.google.com/assets/colab-badge.svg\" alt=\"Open In Colab\"/></a>"
      ]
    },
    {
      "cell_type": "code",
      "metadata": {
        "colab": {
          "base_uri": "https://localhost:8080/"
        },
        "id": "fu3w2emCtUMe",
        "outputId": "584690d8-854f-450d-aacb-380d7c7e00f6"
      },
      "source": [
        "# -*- coding: utf-8 -*-\n",
        "minha_lista = [\"abacaxi\", \"banana\", \"maça\"]\n",
        "minha_lista_2 = [1,2,3,4,5]\n",
        "minha_lista_3 = [\"abacaxi\", 1, 9.99, True]\n",
        "minha_lista.append(\"laranja\") #adiciona um atributo na lista\n",
        "contador = len(minha_lista) #\n",
        "\n",
        "print(minha_lista)\n",
        "print(contador)\n"
      ],
      "execution_count": null,
      "outputs": [
        {
          "output_type": "stream",
          "text": [
            "['abacaxi', 'banana', 'maça', 'laranja']\n",
            "4\n"
          ],
          "name": "stdout"
        }
      ]
    },
    {
      "cell_type": "code",
      "metadata": {
        "id": "LLmm0PEepKs6"
      },
      "source": [
        ""
      ],
      "execution_count": null,
      "outputs": []
    },
    {
      "cell_type": "code",
      "metadata": {
        "colab": {
          "base_uri": "https://localhost:8080/"
        },
        "id": "MRNeB6SEw4c3",
        "outputId": "55b49297-7995-4503-d330-6d7dcf41e187"
      },
      "source": [
        "# -*- coding: utf-8 -*-\n",
        "#CRIAÇÃO E MANIPULAÇÃP DE LISTAS\n",
        "\n",
        "lista = [456,452,704,85,945,1246,810,22,2,11,3]\n",
        "lista_2 = [\"bola\", \"vaca\", \"queijo\", \"faca\"]\n",
        "\n",
        "lista_2.reverse()\n",
        "lista.sort()\n",
        "print(lista)\n",
        "print(lista_2)\n",
        "\n"
      ],
      "execution_count": null,
      "outputs": [
        {
          "output_type": "stream",
          "text": [
            "[2, 3, 11, 22, 85, 452, 456, 704, 810, 945, 1246]\n",
            "['faca', 'queijo', 'vaca', 'bola']\n"
          ],
          "name": "stdout"
        }
      ]
    },
    {
      "cell_type": "code",
      "metadata": {
        "id": "Dmdoplbip5dn"
      },
      "source": [
        "# Estrutura de lacos de repetcao\n",
        "#Laco While \n",
        "#Será executado equanto x for menor que 10.\n",
        "\n",
        "# Variavel i\n",
        "i = 0\n",
        "while i < 100 and i != 0:\n",
        "# Imprima APENAS os numeros impares 1, 3, 5 ... 99\n",
        "  print(i)\n",
        "  i += 2\n",
        "\n",
        "#Laco For\n",
        "# Laco for utilzado para varrer um conjunto de informações pre determinadas.\n",
        "# Percorrer uma lista\n",
        "\n"
      ],
      "execution_count": null,
      "outputs": []
    },
    {
      "cell_type": "code",
      "metadata": {
        "id": "dXm4WzS_tSMv"
      },
      "source": [
        ""
      ],
      "execution_count": null,
      "outputs": []
    },
    {
      "cell_type": "code",
      "metadata": {
        "id": "L9rZQ5ZJyvY2"
      },
      "source": [
        "# -*- coding: utf-8 -*-\n",
        "#CRIANDO UM DICIONARIO\n",
        "#DICIONARIO SÕA LISTAS DE ASSOCIAÇÕES COMPOSTA POR UM VALOR(CHAVES E VALORES).\n",
        "# dicionario = {\"CHAVE\":\"VALOR\"}\n",
        "\n",
        "meu_dicionario = {\"A\":\"Abacaxi\", \"B\":\"Bola\", \"C\":\"Cola\"}\n",
        "print(meu_dicionario[\"A\"])#IMPRIMINDO O VALOR DA CHAVE ESPECIFICADA\n",
        "\n",
        "for chave in meu_dicionario:\n",
        "  print(meu_dicionario[chave]) # IMPRIMINDO O VALOR DE CADA CHAVE\n",
        "\n",
        "for i in meu_dicionario.items():\n",
        "  print(i)\n",
        "\n",
        "for chave in meu_dicionario:\n",
        "  print(chave+\"-\"+meu_dicionario[chave])\n",
        "\n",
        "\n"
      ],
      "execution_count": null,
      "outputs": []
    },
    {
      "cell_type": "code",
      "metadata": {
        "id": "vRMqFmBgBpHJ"
      },
      "source": [
        "# -*- coding: utf-8 -*-\n",
        "\n",
        "#IMPRIMINDO AS LINHAS DE UM ARQUIVO TXT\n",
        "arquivo = open(\"arquivo.txt\")\n",
        "linha = arquivo.readline() \n",
        "print(linha)\n",
        "\n",
        "#CRIANDO UM NOVO ARQUIVO TXT.\n",
        "w = open(\"arquivo2.txt\", \"w\")\n",
        "w.write(\"Olá trouxa\\n\")\n",
        "w.close()\n",
        "\n",
        "\n",
        "#SUBSCREVENDO ESTE ARQUIVO\n",
        "w = open(\"arquivo2.txt\", \"a\")\n",
        "w.write(\"\\n Subscrevendo este arquivo\")\n",
        "w.close()"
      ],
      "execution_count": null,
      "outputs": []
    },
    {
      "cell_type": "code",
      "metadata": {
        "colab": {
          "base_uri": "https://localhost:8080/"
        },
        "id": "bGv0Wx_7KMZ6",
        "outputId": "7636ef9e-d232-4253-fe1b-7e75463bbeb5"
      },
      "source": [
        "# -*- coding: utf-8 -*-\n",
        "# FUNÇÕES\n",
        "# Funções são blocos de comandos, que, são executados apenas quando chamados.\n",
        "\n",
        "## FUNÇÃO PARA SOMAR DOIS VALORES DEFINIDOS NO COD.\n",
        "def soma(x, y):\n",
        "  return x+y\n",
        "\n",
        "## FUNÇÃO PARA MULTIPLICAR DOIS VALORES DEFINIDOS NO COD.\n",
        "def multiplicacao(x, y):\n",
        "  return x*y\n",
        "\n",
        "s = soma(2, 5)\n",
        "m = multiplicacao(2, 5)\n",
        "print(s)\n",
        "print(m)\n",
        "print(soma(s, m)) # SOMANDO AS DUAS FUNÇÕES \n"
      ],
      "execution_count": null,
      "outputs": [
        {
          "output_type": "stream",
          "text": [
            "7\n",
            "10\n",
            "17\n"
          ],
          "name": "stdout"
        }
      ]
    },
    {
      "cell_type": "code",
      "metadata": {
        "colab": {
          "base_uri": "https://localhost:8080/"
        },
        "id": "nLjS5qtQpqmx",
        "outputId": "84c3b8db-91ef-4db0-8f60-af9070d75e7f"
      },
      "source": [
        "# -*- coding: utf-8 -*-\n",
        "#NUMEROS ALEATORIOS\n",
        "## ESCOLHA NUMEROS ALEATORIOS COM UTILIZANDO RANDOM\n",
        "\"\"\"\n",
        "import random\n",
        "numero = random.randint(0, 10) #retornar um numero aleatorio entre 0 a 10 utilizando randint\n",
        "print(numero)\"\"\"\n",
        "\n",
        "lista = [\"AMOR\",2,9]\n",
        "numero = random.choice(lista) ### METODO CHOICE SELECIONA UM VALOR DE UMA LISTA.\n",
        "print(numero)\n"
      ],
      "execution_count": null,
      "outputs": [
        {
          "output_type": "stream",
          "text": [
            "AMOR\n"
          ],
          "name": "stdout"
        }
      ]
    },
    {
      "cell_type": "code",
      "metadata": {
        "id": "tjrZVr6n0DDs"
      },
      "source": [
        "# -*- coding: utf-8 -*-\n",
        "# TRATAMENTO DE EXCECOES\n",
        "# UTILIZANDO AS FUNÇÕES DE TRY E EXCEPT\n",
        "\n",
        "a = float(input('Ah : '))\n",
        "b = float(input('Divide por: '))\n",
        "\n",
        "try:\n",
        "  print(a/b)\n",
        "except:\n",
        "  print('Não é permitido a divisão por 0!!')\n",
        "\n",
        "try:\n",
        "  b = float(input('Digite outro valor: '))\n",
        "  print(a/b)\n",
        "except:\n",
        "  print('Execute novamente')\n",
        "\n",
        "print('Parabens!')"
      ],
      "execution_count": null,
      "outputs": []
    },
    {
      "cell_type": "code",
      "metadata": {
        "id": "Igzmh2OeACun"
      },
      "source": [
        "# -*- coding: utf-8 -*-\n",
        "#Escreva um programa que compare se duas sequências digitadas pelo usuário são iguais.\n",
        "import re\n",
        "a = input('Digite a sequencia 1: ')\n",
        "b = input('Digite a seguencia 2: ')\n",
        "\n",
        "## Comparando duas strings\n",
        "if a == b:\n",
        "  print('sequencias Iguais')\n",
        "else:\n",
        "  print('sequencias diferentes')\n",
        "\n",
        "### UTILIZANDO EXPRESSOES REGULARES, IMPORTANDO O MODULO \"RE\"\n",
        "seq1 = input(\"Digite a sequência 1: \")\n",
        "seq2 = input(\"Digite a sequencia 2: \")\n",
        "busca = re.match(seq1,seq2)\n",
        "\n",
        "if busca:\n",
        "  print('Sequencias identicas')\n",
        "\n",
        "else:\n",
        "  print('Sequencias diferentes')"
      ],
      "execution_count": null,
      "outputs": []
    },
    {
      "cell_type": "code",
      "metadata": {
        "colab": {
          "base_uri": "https://localhost:8080/"
        },
        "id": "6O2iUgZeO6As",
        "outputId": "237aef96-7c30-4494-d6b6-9c2bd2aa63de"
      },
      "source": [
        "#função reduce\n",
        "from functools import reduce\n",
        "\n",
        "def soma(x, y):\n",
        "  return x+y\n",
        "lista = [2,1,2,3,4,5,10]\n",
        "soma = reduce(soma, lista)\n",
        "print(soma)"
      ],
      "execution_count": null,
      "outputs": [
        {
          "output_type": "stream",
          "text": [
            "27\n"
          ],
          "name": "stdout"
        }
      ]
    },
    {
      "cell_type": "code",
      "metadata": {
        "colab": {
          "base_uri": "https://localhost:8080/"
        },
        "id": "UM0ECwcJu3WA",
        "outputId": "73cc0586-1301-429a-e542-998b8b436b27"
      },
      "source": [
        "#List Comprehension\n",
        "#Compreensão de listas, é uma forma concisa de criar e manipular listas.\n",
        "\n",
        "y = [1, 2, 3, 4, 5, 6]\n",
        "z = [i**2 for i in y] #Listando a raiz quadrada de cada item da lista y.\n",
        "x = [i for i in z if i%2==1]# Listando apenas os numeros impares da lista z\n",
        "print(z)\n",
        "print(x)\n",
        "\n",
        "\n",
        "b = [\"abacate\", \"banana\", \"limao\"]\n",
        "c = [str(i).upper() for i in b]#Colocando todas as stringues em caixa alta utlizando o upper\n",
        "print(c)\n"
      ],
      "execution_count": null,
      "outputs": [
        {
          "output_type": "stream",
          "text": [
            "[1, 4, 9, 16, 25, 36]\n",
            "[1, 9, 25]\n",
            "['ABACATE', 'BANANA', 'LIMAO']\n"
          ],
          "name": "stdout"
        }
      ]
    },
    {
      "cell_type": "code",
      "metadata": {
        "colab": {
          "base_uri": "https://localhost:8080/"
        },
        "id": "qYk2fs7-uteW",
        "outputId": "50d6efde-9a80-46df-a475-d5e0a49cdd10"
      },
      "source": [
        "## Função Enumerate\n",
        "## Trazer o indice dos elementos de uma determinada lista.\n",
        "lista = [\"abacate\", \"laranja\", \"uva\", \"morango\", \"banana\"]\n",
        "for i, nome in enumerate(lista):\n",
        "  print(i+1, nome)"
      ],
      "execution_count": null,
      "outputs": [
        {
          "output_type": "stream",
          "text": [
            "1 abacate\n",
            "2 laranja\n",
            "3 uva\n",
            "4 morango\n",
            "5 banana\n"
          ],
          "name": "stdout"
        }
      ]
    },
    {
      "cell_type": "code",
      "metadata": {
        "colab": {
          "base_uri": "https://localhost:8080/"
        },
        "id": "et4pnfWc472g",
        "outputId": "bfdcc7d9-3b7a-4a39-87c0-e5716980a3a3"
      },
      "source": [
        "#Filter\n",
        "# Utilizando para filtrar um ou elementos de uma determinada lista, com base em outra função.\n",
        "\n",
        "def pares(i):\n",
        "  if i % 2 == 0:\n",
        "    return i\n",
        "lista = [1,2,3,4,5,6,7,8,9,10]\n",
        "lista_pares = filter(pares, lista)\n",
        "\n",
        "print(list(lista_pares))"
      ],
      "execution_count": null,
      "outputs": [
        {
          "output_type": "stream",
          "text": [
            "[2, 4, 6, 8, 10]\n"
          ],
          "name": "stdout"
        }
      ]
    },
    {
      "cell_type": "code",
      "metadata": {
        "colab": {
          "base_uri": "https://localhost:8080/"
        },
        "id": "MnQBanrRDh5g",
        "outputId": "18ee99f9-6e7d-4616-fd5d-008e2b4fb2b1"
      },
      "source": [
        "#reduce\n",
        "# a Função reduce, recebe uma lista e retorna um unico valor\n",
        "from functools import reduce\n",
        "\n",
        "def soma(x, y):\n",
        "  return x+y\n",
        "\n",
        "lista = [1,2,3,4,5,6,7,8,9,10]\n",
        "soma = reduce(soma, lista)\n",
        "print(soma)"
      ],
      "execution_count": null,
      "outputs": [
        {
          "output_type": "stream",
          "text": [
            "55\n"
          ],
          "name": "stdout"
        }
      ]
    },
    {
      "cell_type": "code",
      "metadata": {
        "id": "cIMYgf4pokJY"
      },
      "source": [
        "#Função zip\n",
        "#A função Zip é Utilizado para concatenar listas\n",
        "\n",
        "\n",
        "lista1 = [1,2,3,4,5]\n",
        "lista2 = [\"abacate\", \"laranja\", \"uva\", \"morango\", \"banana\"]\n",
        "lista3 = [\"2,00\", \"5,00\", \"10,00\", \"3,00\", \"4,50\"]\n",
        "\n",
        "for numero, nome, valor in zip(lista1, lista2, lista3):\n",
        "  print(numero, nome, valor);\n"
      ],
      "execution_count": null,
      "outputs": []
    },
    {
      "cell_type": "code",
      "metadata": {
        "colab": {
          "base_uri": "https://localhost:8080/"
        },
        "id": "ga4bcNIqEmdo",
        "outputId": "6ed666b3-694b-4f7b-ae9b-31bde86ab880"
      },
      "source": [
        "# MAP\n",
        "# Ela pega uma função e aplica em todos os elementos de uma lista\n",
        "\n",
        "def dobro(x):\n",
        "  return x*2\n",
        "\n",
        "valor = [1,2,3,4,5]\n",
        "valor_dobrado = map(dobro, valor)\n",
        "valor_dobrado = list(valor_dobrado)\n",
        "\n",
        "print(valor_dobrado)\n",
        "\n"
      ],
      "execution_count": null,
      "outputs": [
        {
          "output_type": "stream",
          "text": [
            "[2, 4, 6, 8, 10]\n"
          ],
          "name": "stdout"
        }
      ]
    },
    {
      "cell_type": "code",
      "metadata": {
        "id": "qUQpjh8xF3rW"
      },
      "source": [
        "#função Lambda\n",
        "## A função lambda serve para criar uma função que será executada uma unica vez no codigo.\n",
        "valor = [1,2,3,4,5]\n",
        "valor_dobrado = map(lambda i: i*2, valor)\n",
        "valor_dobrado = list(valor_dobrado)\n",
        "\n",
        "print(valor_dobrado)"
      ],
      "execution_count": null,
      "outputs": []
    },
    {
      "cell_type": "code",
      "metadata": {
        "colab": {
          "base_uri": "https://localhost:8080/",
          "height": 295
        },
        "id": "9WHU1VfFIpvY",
        "outputId": "7758bdc2-89ba-4643-bff3-bd15e8878162"
      },
      "source": [
        "#Comparando dois Gráficos\n",
        "import matplotlib.pyplot as plt\n",
        "\n",
        "x1 = [1,3,5,7,9]\n",
        "y1 = [5,9,2,3,7]\n",
        "\n",
        "x2 = [2,4,6,8,10]\n",
        "y2 = [2,3,7,5,8]\n",
        "\n",
        "titulo = \"Comparando gráficos de barras\"\n",
        "eixox = \"Eixo x\"\n",
        "eixoy = 'Eixo Y'\n",
        "\n",
        "#Legendas\n",
        "plt.title(titulo)\n",
        "plt.xlabel(eixox)\n",
        "plt.ylabel(eixoy)\n",
        "\n",
        "#Grafico de barras com Scatter\n",
        "plt.bar(x1, y1, label=\"Grupo 1\")\n",
        "plt.bar(x2, y2, label=\"Grupo 2\")\n",
        "\n",
        "\n",
        "#Grafico de pontos com Scatter com grafico de linhas plot\n",
        "#plt.scatter(x1, y1, label=\"Grupo 1\", color='r')\n",
        "#plt.plot(x1, y1)\n",
        "#plt.scatter(x2, y2, label=\"Grupo 2\", color='g')\n",
        "#plt.plot(x2, y2)\n",
        "plt.legend()\n",
        "\n",
        "#plt.show()#Mostrar o grafico em tela\n",
        "plt.savefig(\"g-barras.pdf\", dpi=300)#Salvar o Grafico para pasta, formato desejado.\n"
      ],
      "execution_count": null,
      "outputs": [
        {
          "output_type": "display_data",
          "data": {
            "image/png": "[encoded data removed]",
            "text/plain": [
              "<Figure size 432x288 with 1 Axes>"
            ]
          },
          "metadata": {
            "tags": []
          }
        }
      ]
    },
    {
      "cell_type": "code",
      "metadata": {
        "colab": {
          "base_uri": "https://localhost:8080/"
        },
        "id": "ffu8HGJs9aMG",
        "outputId": "4a69fa31-7e8e-4b91-b122-e20dac0ff31a"
      },
      "source": [
        "# variaveis\n",
        "valor1 = 10\n",
        "float(valor1)\n",
        "operador = \"/\"\n",
        "valor2 = 10\n",
        "float(valor2)\n",
        "\n",
        "# Deve ser impresso 1.0\n",
        "if operador == \"/\":\n",
        "  divisao = valor1 / valor2\n",
        "  print(divisao)\n",
        "\n"
      ],
      "execution_count": null,
      "outputs": [
        {
          "output_type": "stream",
          "text": [
            "1.0\n"
          ],
          "name": "stdout"
        }
      ]
    },
    {
      "cell_type": "code",
      "metadata": {
        "id": "-tz_5oFgpPCw"
      },
      "source": [
        "# Variavel i\n",
        "i = 0\n",
        "while i < 100:\n",
        "# Imprima APENAS os numeros impares 1, 3, 5 ... 99\n",
        "  print(i)\n",
        "  i += 2"
      ],
      "execution_count": null,
      "outputs": []
    },
    {
      "cell_type": "code",
      "metadata": {
        "id": "AofkXGvvyb1W"
      },
      "source": [
        "# Placeholder\n",
        "\n",
        "# utilzando Pass e Elipses\n",
        "\n",
        "teste = True\n",
        "\n",
        "if teste:\n",
        "  pass\n",
        "\n",
        "else:\n",
        "  print('Teste') \n"
      ],
      "execution_count": null,
      "outputs": []
    },
    {
      "cell_type": "code",
      "metadata": {
        "colab": {
          "background_save": true
        },
        "id": "_Qd44VhJz1Yp",
        "outputId": "06abb033-84d8-4ec3-dfbc-e67084ffe342"
      },
      "source": [
        "# Faça um programa que diga se o numero é par ou impar\n",
        "num = input('Digite um número: ')\n",
        "if num.isdigit():\n",
        "  num = int(num)\n",
        "  if num % 2 == 0:\n",
        "    print(f'O {num} é PAR')\n",
        "  else:\n",
        "    print(f'O {num} é Impar')\n",
        "\n",
        "else: \n",
        "  print('Digite um numero Inteiro')\n",
        "  "
      ],
      "execution_count": null,
      "outputs": [
        {
          "output_type": "stream",
          "text": [
            "O 5 é Impar\n"
          ],
          "name": "stdout"
        }
      ]
    },
    {
      "cell_type": "code",
      "metadata": {
        "id": "Ecdxg0KP8hyc"
      },
      "source": [
        "# Faça um programa que pergunte as horas e diga bom dia/tarde/noite\n",
        "hora = input('Que horas são agora: ')\n",
        "\n",
        "if hora.isdigit():\n",
        "  hora = int(hora)\n",
        "  if hora >= 0 and hora <= 11:\n",
        "    print('Bom dia')\n",
        "\n",
        "  elif hora >= 12 and hora <= 17:\n",
        "    print('Boa tarde')\n",
        "\n",
        "  else:\n",
        "    print('Boa noite')\n",
        "\n",
        "else:\n",
        "  print('Digite um valor inteiro')\n"
      ],
      "execution_count": null,
      "outputs": []
    }
  ]
}